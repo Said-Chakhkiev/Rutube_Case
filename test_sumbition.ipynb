{
 "cells": [
  {
   "cell_type": "code",
   "id": "initial_id",
   "metadata": {
    "collapsed": true
   },
   "source": [
    "import pandas as pd\n",
    "from sklearn.preprocessing import LabelEncoder\n",
    "from timezonefinder import TimezoneFinder\n",
    "import pytz\n",
    "from tqdm.auto import tqdm\n",
    "import numpy as np"
   ],
   "outputs": [],
   "execution_count": null
  },
  {
   "metadata": {},
   "cell_type": "code",
   "source": [
    "test_events = pd.read_csv('data/test_events.csv')\n",
    "video_info = pd.read_csv('data/video_info_v2.csv')\n",
    "sbm = pd.read_csv(\"data/subm.csv\")"
   ],
   "id": "53a5a365e5f840a2",
   "outputs": [],
   "execution_count": null
  },
  {
   "metadata": {},
   "cell_type": "code",
   "source": "sbm",
   "id": "6f9ce6fbe96a1e11",
   "outputs": [],
   "execution_count": null
  },
  {
   "metadata": {},
   "cell_type": "code",
   "source": "test_events",
   "id": "6e6b05674e1f66a1",
   "outputs": [],
   "execution_count": null
  },
  {
   "metadata": {},
   "cell_type": "code",
   "source": "test = test_events.merge(video_info, left_on=\"rutube_video_id\", right_on=\"rutube_video_id\")",
   "id": "fd152d4fdb69b109",
   "outputs": [],
   "execution_count": null
  },
  {
   "metadata": {},
   "cell_type": "code",
   "source": [
    "test_le = test.drop(columns=[\"author_id\", \"title\"])\n",
    "columns = test.drop(\n",
    "    [\"event_timestamp\", \"rutube_video_id\", \"viewer_uid\", \"title\", \"author_id\", \"total_watchtime\",\n",
    "     \"duration\"], axis=1).columns\n",
    "\n",
    "for column in columns:\n",
    "    le = LabelEncoder()\n",
    "    test_le[column] = le.fit_transform(test[column])\n",
    "test_le.head()"
   ],
   "id": "7e5320777c98a340",
   "outputs": [],
   "execution_count": null
  },
  {
   "metadata": {},
   "cell_type": "markdown",
   "source": "### Достаем основные сессионные фичи",
   "id": "3acde1303075f4f9"
  },
  {
   "metadata": {},
   "cell_type": "code",
   "source": "test_le['event_timestamp'] = pd.to_datetime(test_le['event_timestamp'], errors='coerce')",
   "id": "43b6ca01115fe80c",
   "outputs": [],
   "execution_count": null
  },
  {
   "metadata": {},
   "cell_type": "code",
   "source": [
    "# Создаем экземпляр TimezoneFinder\n",
    "tf = TimezoneFinder()\n",
    "\n",
    "# Пример координат для основных городов\n",
    "region_coordinates = {\n",
    "    'Moscow': (55.7558, 37.6173),\n",
    "    'Vologda Oblast': (59.2187, 39.8918),\n",
    "    'St.-Petersburg': (59.9343, 30.3351),\n",
    "    'Tatarstan Republic': (55.7963, 49.1064),\n",
    "    'Sverdlovsk Oblast': (56.8389, 60.6057),\n",
    "    'Rostov': (47.2357, 39.7015),\n",
    "    'Krasnodar Krai': (45.0393, 38.9872),\n",
    "    'Krasnodarskiy': (45.0393, 38.9872),\n",
    "    'Kursk Oblast': (51.7304, 36.1926),\n",
    "    'Kaluga Oblast': (54.5060, 36.2516),\n",
    "    'Khanty-Mansia': (61.0025, 69.0182),\n",
    "    'Udmurtiya Republic': (56.8526, 53.2048),\n",
    "    'Samara Oblast': (53.1959, 50.1002),\n",
    "    'Bashkortostan Republic': (54.7348, 55.9579),\n",
    "    'Komi': (61.6684, 50.8357),\n",
    "    'Penza': (53.1959, 45.0183),\n",
    "    'Moscow Oblast': (55.7558, 37.6173),\n",
    "    'Stavropol Kray': (45.0448, 41.969),\n",
    "    'Tambov Oblast': (52.7213, 41.4523),\n",
    "    'Irkutsk Oblast': (52.2869, 104.305),\n",
    "    \"Leningradskaya Oblast'\": (59.8287, 30.3347),\n",
    "    'Dagestan': (42.2804, 47.5156),\n",
    "    'Chelyabinsk': (55.1644, 61.4368),\n",
    "    'Tyumen Oblast': (57.1530, 65.5343),\n",
    "    'Perm Krai': (58.0104, 56.2294),\n",
    "    'Yamalo-Nenets': (65.5343, 72.5167),\n",
    "    'Ulyanovsk': (54.3142, 48.4031),\n",
    "    'Saratov Oblast': (51.5331, 46.0342),\n",
    "    'Altay Kray': (53.3481, 83.7798),\n",
    "    'Kuzbass': (55.3547, 86.0876),\n",
    "    'Voronezh Oblast': (51.6720, 39.1843),\n",
    "    'Orenburg Oblast': (51.7682, 55.0969),\n",
    "    'Vladimir Oblast': (56.1291, 40.4073),\n",
    "    'Vladimir': (56.1291, 40.4073),\n",
    "    'Novosibirsk Oblast': (55.0084, 82.9357),\n",
    "    'Amur Oblast': (50.2907, 127.5272),\n",
    "    'Khabarovsk': (48.4827, 135.0838),\n",
    "    'Volgograd Oblast': (48.7080, 44.5133),\n",
    "    'Novgorod Oblast': (58.5215, 31.2755),\n",
    "    'Sverdlovsk': (56.8389, 60.6057),\n",
    "    'Smolensk Oblast': (54.7867, 32.0504),\n",
    "    'Chuvashia': (55.4746, 47.1073),\n",
    "    'Nizhny Novgorod Oblast': (56.3269, 44.0059),\n",
    "    'Pskov Oblast': (57.8194, 28.3310),\n",
    "    'Omsk Oblast': (54.9893, 73.3682),\n",
    "    'Primorye': (43.1737, 132.0064),\n",
    "    'Astrakhan Oblast': (46.3476, 48.0336),\n",
    "    'Krasnoyarskiy': (56.0153, 92.8932),\n",
    "    'Karelia': (61.7849, 34.3469),\n",
    "    'Belgorod Oblast': (50.5977, 36.5850),\n",
    "    'Krasnoyarsk Krai': (56.0153, 92.8932),\n",
    "    'Yaroslavl Oblast': (57.6216, 39.8978),\n",
    "    'Tver Oblast': (56.8585, 35.9176),\n",
    "    'Kirov Oblast': (58.6035, 49.6668),\n",
    "    'Kurgan Oblast': (55.4507, 65.3411),\n",
    "    'Kaliningrad Oblast': (54.7104, 20.4522),\n",
    "    'Kostroma Oblast': (57.7676, 40.9267),\n",
    "    'Kamchatka': (53.0370, 158.6559),\n",
    "    'Tomsk Oblast': (56.4846, 84.9483),\n",
    "    'Bryansk Oblast': (53.2521, 34.3717),\n",
    "    'Tula Oblast': (54.1931, 37.6177),\n",
    "    'Ivanovo': (57.0004, 40.9739),\n",
    "    'Ivanovo Oblast': (57.0004, 40.9739),\n",
    "    'Lipetsk Oblast': (52.6100, 39.5946),\n",
    "    'Ryazan Oblast': (54.6250, 39.7359),\n",
    "    'North Ossetia–Alania': (42.7924, 44.6216),\n",
    "    'Murmansk': (68.9585, 33.0827),\n",
    "    'Kabardino-Balkariya Republic': (43.4947, 43.6159),\n",
    "    'Arkhangelskaya': (64.5399, 40.5182),\n",
    "    'Penza Oblast': (53.1959, 45.0183),\n",
    "    'Altai': (52.5205, 85.1602),\n",
    "    'Kaliningrad': (54.7104, 20.4522),\n",
    "    'Zabaykalskiy (Transbaikal) Kray': (52.0340, 113.4990),\n",
    "    'Oryol oblast': (52.9685, 36.0697),\n",
    "    'Tula': (54.1931, 37.6177),\n",
    "    'Jaroslavl': (57.6216, 39.8978),\n",
    "    'Kemerovo Oblast': (55.3547, 86.0876),\n",
    "    'Khakasiya Republic': (53.7224, 91.4437),\n",
    "    'Chechnya': (43.3179, 45.6989),\n",
    "    'Kalmykiya Republic': (46.3083, 44.2702),\n",
    "    'Sakha': (62.0280, 129.7326),\n",
    "    'Omsk': (54.9893, 73.3682),\n",
    "    'Sakhalin Oblast': (47.5172, 142.7970),\n",
    "    'Karachayevo-Cherkesiya Republic': (43.7365, 41.7368),\n",
    "    'Buryatiya Republic': (51.8335, 107.5846),\n",
    "    'Smolenskaya Oblast’': (54.7867, 32.0504),\n",
    "    'Sebastopol City': (44.6166, 33.5254),\n",
    "    'Mariy-El Republic': (56.6344, 47.8990),\n",
    "    'Voronezj': (51.6720, 39.1843),\n",
    "    'Kursk': (51.7304, 36.1926),\n",
    "    'Adygeya Republic': (44.6096, 40.1008),\n",
    "    'Perm': (58.0104, 56.2294),\n",
    "    'Primorskiy (Maritime) Kray': (43.1737, 132.0064),\n",
    "    'Saratovskaya Oblast': (51.5331, 46.0342),\n",
    "    'Mordoviya Republic': (54.1808, 45.1869),\n",
    "    'Crimea': (44.9521, 34.1024),\n",
    "    'Ingushetiya Republic': (43.1688, 44.8131),\n",
    "    'Chukotka': (66.0000, 169.4902),\n",
    "    'North Ossetia': (42.7924, 44.6216),\n",
    "    'Tambov': (52.7213, 41.4523),\n",
    "    'Kaluga': (54.5060, 36.2516),\n",
    "    'Jewish Autonomous Oblast': (48.5382, 132.7369),\n",
    "    'Orel Oblast': (52.9685, 36.0697),\n",
    "    'Tver’ Oblast': (56.8585, 35.9176),\n",
    "    'Tyumen’ Oblast': (57.1530, 65.5343),\n",
    "    'Stavropol’ Kray': (45.0448, 41.969),\n",
    "    'Magadan Oblast': (59.5682, 150.8085),\n",
    "    'Tyva Republic': (51.7191, 94.4378),\n",
    "    'Transbaikal Territory': (52.0340, 113.4990),\n",
    "    'Nenets': (67.6380, 44.1212),\n",
    "    'Smolensk': (54.7867, 32.0504),\n",
    "    'Stavropol Krai': (45.0448, 41.969),\n",
    "    'Vologda': (59.2187, 39.8918),\n",
    "    'Astrakhan': (46.3476, 48.0336),\n",
    "    'Kirov': (58.6035, 49.6668),\n",
    "    'Arkhangelsk Oblast': (64.5399, 40.5182)\n",
    "}\n",
    "\n",
    "\n",
    "# Функция для получения часового пояса по региону\n",
    "def get_timezone(region):\n",
    "    if region in region_coordinates:\n",
    "        lat, lon = region_coordinates[region]\n",
    "        timezone_str = tf.timezone_at(lat=lat, lng=lon)\n",
    "        if timezone_str:\n",
    "            return pytz.timezone(timezone_str)\n",
    "    # Если регион не найден, возвращаем московское время как дефолтное\n",
    "    return pytz.timezone('Europe/Moscow')\n",
    "\n",
    "\n",
    "# Коррекция времени для каждого пользователя\n",
    "def correct_time(row):\n",
    "    region = row['region']\n",
    "    local_tz = get_timezone(region)\n",
    "    moscow_tz = pytz.timezone('Europe/Moscow')\n",
    "\n",
    "    # Проверяем, имеет ли временная метка tzinfo, чтобы не локализовать ее повторно\n",
    "    timestamp_moscow = row['event_timestamp']\n",
    "    if timestamp_moscow.tzinfo is None:\n",
    "        # Локализуем, если временная метка наивная (без tzinfo)\n",
    "        timestamp_moscow = moscow_tz.localize(timestamp_moscow)\n",
    "\n",
    "    return timestamp_moscow.astimezone(local_tz)\n",
    "\n",
    "\n",
    "tqdm.pandas()\n",
    "# Применение функции для корректировки времени\n",
    "test_le['local_time'] = test_le.progress_apply(correct_time, axis=1)"
   ],
   "id": "29c8487224e58c0b",
   "outputs": [],
   "execution_count": null
  },
  {
   "metadata": {},
   "cell_type": "code",
   "source": [
    "test_le['local_time'] = test_le['local_time'].astype(str)\n",
    "\n",
    "# Удаляем информацию о временной зоне (+HH:MM, -HH:MM или Z) в конце строки\n",
    "test_le['local_time'] = test_le['local_time'].str.replace(\n",
    "    r'(Z|[\\+\\-]\\d{2}:?\\d{2})$', '', regex=True\n",
    ")\n",
    "test_le['local_time'] = pd.to_datetime(test_le['local_time'], errors='coerce')"
   ],
   "id": "ccc15c2d416c6a65",
   "outputs": [],
   "execution_count": null
  },
  {
   "metadata": {},
   "cell_type": "code",
   "source": [
    "# Шаг 1: Сортировка данных по 'viewer_uid' и 'local_time'\n",
    "test_le = test_le.sort_values(['viewer_uid', 'local_time']).reset_index(drop=True)\n",
    "test_le.head()"
   ],
   "id": "9cd07f74c80e3b63",
   "outputs": [],
   "execution_count": null
  },
  {
   "metadata": {},
   "cell_type": "code",
   "source": [
    "# Шаг 2: Извлечение временных признаков\n",
    "test_le['hour'] = test_le['local_time'].dt.hour\n",
    "test_le['day_of_week'] = test_le['local_time'].dt.dayofweek"
   ],
   "id": "f2d6f7f8822cec84",
   "outputs": [],
   "execution_count": null
  },
  {
   "metadata": {},
   "cell_type": "code",
   "source": [
    "# Создаём столбец 'end_time' = 'local_time' + 'total_watchtime'\n",
    "test_le['end_time'] = test_le['local_time'] + pd.to_timedelta(test_le['total_watchtime'], unit='s')"
   ],
   "id": "b29ca985ded5aa68",
   "outputs": [],
   "execution_count": null
  },
  {
   "metadata": {},
   "cell_type": "code",
   "source": [
    "# Шаг 3: Вычисление разницы во времени между последовательными действиями\n",
    "# Вычисление разницы во времени между окончанием предыдущего видео и началом текущего\n",
    "test_le['prev_end_time'] = test_le.groupby('viewer_uid')['end_time'].shift(1)\n",
    "# Рассчитываем разницу: текущий 'local_time' - предыдущий 'end_time'\n",
    "test_le['time_diff'] = test_le['local_time'] - test_le['prev_end_time']"
   ],
   "id": "daf5556e8d76d17d",
   "outputs": [],
   "execution_count": null
  },
  {
   "metadata": {},
   "cell_type": "code",
   "source": [
    "# Шаг 4: Определение новой сессии ('new_session') с учётом отрицательных 'time_diff'\n",
    "session_threshold = pd.Timedelta('20 minutes')\n",
    "test_le['new_session'] = (\n",
    "        (test_le['time_diff'] > session_threshold) |\n",
    "        (test_le['time_diff'] < pd.Timedelta(0))\n",
    ").astype(int)\n",
    "\n",
    "test_le = test_le.drop(\"time_diff\", axis=1)"
   ],
   "id": "462f7d8d9e1b1afc",
   "outputs": [],
   "execution_count": null
  },
  {
   "metadata": {},
   "cell_type": "code",
   "source": [
    "# Шаг 5: Присвоение уникального идентификатора для каждой сессии ('session_id')\n",
    "test_le['session_id'] = test_le.groupby('viewer_uid')['new_session'].cumsum()\n",
    "test_le"
   ],
   "id": "960e906f1ce198d0",
   "outputs": [],
   "execution_count": null
  },
  {
   "metadata": {},
   "cell_type": "code",
   "source": [
    "# Шаг 6: Группировка по 'viewer_uid' и 'session_id' для создания сессионных признаков\n",
    "session_features = test_le.groupby(['viewer_uid', 'session_id']).agg(\n",
    "    total_watchtime_per_session=('total_watchtime', 'sum'),  # Суммарное время просмотра в сессии\n",
    "    video_count_per_session=('local_time', 'count'),  # Количество видео в сессии\n",
    "    session_start=('local_time', 'min'),  # Время начала сессии\n",
    "    session_end=('local_time', 'max')  # Время окончания сессии\n",
    ").reset_index()\n",
    "\n",
    "# Вычисление длительности сессии в секундах\n",
    "session_features['session_duration'] = (\n",
    "            session_features['session_end'] - session_features['session_start']).dt.total_seconds()\n",
    "\n",
    "# Удаление временных столбцов\n",
    "session_features = session_features.drop(['session_start', 'session_end'], axis=1)\n",
    "session_features"
   ],
   "id": "86c32846772192a8",
   "outputs": [],
   "execution_count": null
  },
  {
   "metadata": {},
   "cell_type": "code",
   "source": [
    "# Шаг 7: Объединение по 'viewer_uid' и 'session_id'\n",
    "test_le = pd.merge(test_le, session_features, on=['viewer_uid', 'session_id'], how='left')\n",
    "test_le"
   ],
   "id": "f91bca2a0b44efbd",
   "outputs": [],
   "execution_count": null
  },
  {
   "metadata": {},
   "cell_type": "code",
   "source": [
    "# Шаг 8: Группировка по 'viewer_uid' для создания признаков активности\n",
    "activity_features = test_le.groupby('viewer_uid').agg(\n",
    "    most_active_hour=('hour', lambda x: x.mode().iloc[0] if not x.mode().empty else x.min()),\n",
    "    # Час наибольшей активности\n",
    "    most_active_day=('day_of_week', lambda x: x.mode().iloc[0] if not x.mode().empty else x.min()),\n",
    "    # День недели наибольшей активности\n",
    "    avg_session_duration=('session_duration', 'mean'),  # Средняя длительность сессии\n",
    "    avg_video_count_per_session=('video_count_per_session', 'mean'),  # Среднее количество видео за сессию\n",
    "    avg_watchtime_per_session=('total_watchtime_per_session', 'mean')  # Среднее время просмотра за сессию\n",
    ").reset_index()\n",
    "activity_features"
   ],
   "id": "33194222e122ad90",
   "outputs": [],
   "execution_count": null
  },
  {
   "metadata": {},
   "cell_type": "code",
   "source": [
    "# Объединение activity_features с train_small_2 по 'viewer_uid'\n",
    "test_le = pd.merge(test_le, activity_features, on='viewer_uid', how='left')\n",
    "test_le"
   ],
   "id": "df54fc70295d4f8a",
   "outputs": [],
   "execution_count": null
  },
  {
   "metadata": {},
   "cell_type": "code",
   "source": [
    "# Группировка по 'viewer_uid' для создания дополнительных признаков на основе 'total_watchtime'\n",
    "additional_watchtime_features = test_le.groupby('viewer_uid').agg(\n",
    "    total_watchtime_total=('total_watchtime', 'sum'),  # Общее время просмотра\n",
    "    avg_watchtime_per_video=('total_watchtime', 'mean'),  # Среднее время просмотра одного видео\n",
    "    max_watchtime_per_video=('total_watchtime', 'max'),  # Максимальное время просмотра одного видео\n",
    "    min_watchtime_per_video=('total_watchtime', 'min'),  # Минимальное время просмотра одного видео\n",
    "    std_watchtime_per_video=('total_watchtime', 'std')  # Стандартное отклонение времени просмотра\n",
    ").reset_index()\n",
    "\n",
    "# Обработка NaN значений в 'std_watchtime_per_video' (например, для пользователей с одним видео)\n",
    "additional_watchtime_features['std_watchtime_per_video'] = additional_watchtime_features[\n",
    "    'std_watchtime_per_video'].fillna(0)\n",
    "additional_watchtime_features"
   ],
   "id": "174ce7157dc10ad1",
   "outputs": [],
   "execution_count": null
  },
  {
   "metadata": {},
   "cell_type": "code",
   "source": [
    "test_le = pd.merge(test_le, additional_watchtime_features, on='viewer_uid', how='left')\n",
    "test_le"
   ],
   "id": "4353c65de740d395",
   "outputs": [],
   "execution_count": null
  },
  {
   "metadata": {},
   "cell_type": "code",
   "source": [
    "X_test = test_le.drop(\n",
    "    columns=[\"event_timestamp\", \"viewer_uid\", \"rutube_video_id\", \"session_duration\",\n",
    "             \"video_count_per_session\", \"total_watchtime_per_session\", \"session_id\", \"new_session\", \"day_of_week\",\n",
    "             \"local_time\", \"end_time\", \"prev_end_time\"])"
   ],
   "id": "f3e55e1813bcd486",
   "outputs": [],
   "execution_count": null
  },
  {
   "metadata": {},
   "cell_type": "code",
   "source": [
    "from joblib import load\n",
    "\n",
    "y_sex_pred_test = []\n",
    "y_age_pred_test = []\n",
    "\n",
    "for i in tqdm(range(3)):\n",
    "    xgb_sex_loaded = load(f'1xgb_sex_model_fold_{i}.pkl')  # Загружаем модель для пола\n",
    "    y_sex_pred_test.append(xgb_sex_loaded.predict_proba(X_test))\n",
    "\n",
    "for i in tqdm(range(3)):\n",
    "    # Загрузка модели для возрастных категорий\n",
    "    xgb_age_class_loaded = load(f'1xgb_age_model_fold_{i}.pkl')  # Загружаем модель для возрастных категорий\n",
    "    y_age_pred_test.append(xgb_age_class_loaded.predict_proba(X_test))\n",
    "\n",
    "y_sex_pred_test_avg = np.mean(y_sex_pred_test, axis = 0)\n",
    "y_age_pred_test_avg = np.mean(y_age_pred_test, axis = 0)\n",
    "\n",
    "y_sex_pred_test_classes = np.argmax(y_sex_pred_test_avg, axis=1)\n",
    "y_age_pred_test_classes = np.argmax(y_age_pred_test_avg, axis=1)  # Берем класс с максимальной вероятностью"
   ],
   "id": "a64d8717f9d4c814",
   "outputs": [],
   "execution_count": null
  },
  {
   "metadata": {},
   "cell_type": "code",
   "source": "",
   "id": "f0aa809e7aec070e",
   "outputs": [],
   "execution_count": null
  },
  {
   "metadata": {},
   "cell_type": "code",
   "source": [
    "submission = pd.DataFrame(columns=['viewer_uid',\"age\", 'sex', 'age_class'])\n",
    "submission['viewer_uid'] = test_le['viewer_uid']\n",
    "\n",
    "submission['sex'] = y_sex_pred_test_classes\n",
    "submission['age_class'] = y_age_pred_test_classes"
   ],
   "id": "61ddee122b19f709",
   "outputs": [],
   "execution_count": null
  },
  {
   "metadata": {},
   "cell_type": "code",
   "source": [
    "# Функция для вычисления моды (наиболее частого значения)\n",
    "def mode_agg(x):\n",
    "    return x.mode().iloc[0] if not x.mode().empty else None\n",
    "\n",
    "# Группировка по viewer_uid и применение моды к остальным колонкам\n",
    "grouped_df = submission.groupby('viewer_uid').agg({\n",
    "    'age': mode_agg,\n",
    "    'sex': mode_agg,\n",
    "    'age_class': mode_agg\n",
    "}).reset_index()"
   ],
   "id": "41f58cd993102d4d",
   "outputs": [],
   "execution_count": null
  },
  {
   "metadata": {},
   "cell_type": "code",
   "source": [
    "grouped_df[\"sex\"] = grouped_df[\"sex\"].apply(lambda x: 'female' if x == 1 else 'male')\n",
    "grouped_df"
   ],
   "id": "8e52bd7806d54097",
   "outputs": [],
   "execution_count": null
  },
  {
   "metadata": {},
   "cell_type": "code",
   "source": "grouped_df.to_csv(\"submission.csv\", index=False)",
   "id": "f946c308c5d210bb",
   "outputs": [],
   "execution_count": null
  }
 ],
 "metadata": {
  "kernelspec": {
   "display_name": "Python 3",
   "language": "python",
   "name": "python3"
  },
  "language_info": {
   "codemirror_mode": {
    "name": "ipython",
    "version": 2
   },
   "file_extension": ".py",
   "mimetype": "text/x-python",
   "name": "python",
   "nbconvert_exporter": "python",
   "pygments_lexer": "ipython2",
   "version": "2.7.6"
  }
 },
 "nbformat": 4,
 "nbformat_minor": 5
}
